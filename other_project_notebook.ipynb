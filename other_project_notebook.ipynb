{
 "cells": [
  {
   "cell_type": "markdown",
   "id": "eaddc942-9ecf-4622-b5c4-2b2e38511edf",
   "metadata": {},
   "source": [
    "# Other project notebook "
   ]
  },
  {
   "cell_type": "markdown",
   "id": "c51d4696-e605-43e4-843e-ec4c67825997",
   "metadata": {},
   "source": [
    "This notebook contains demonstration of:\n",
    "    - Relational database, API or web scraping\n",
    "    - Using Regex to extract a pattern\n",
    "    - Merge data frames\n",
    "    - Dictionary or lists "
   ]
  },
  {
   "cell_type": "code",
   "execution_count": 1,
   "id": "bd1db4cd-b4f3-4ba3-a8bb-5d22fb2d48f4",
   "metadata": {},
   "outputs": [],
   "source": [
    "#import libraries\n",
    "import pandas as pd\n",
    "import numpy as np\n",
    "import math\n",
    "import seaborn as sns\n",
    "import requests\n",
    "import json\n",
    "import time \n",
    "import os\n",
    "import re\n",
    "\n",
    "import matplotlib.pyplot as plt\n",
    "%matplotlib inline"
   ]
  },
  {
   "cell_type": "markdown",
   "id": "b88b6efe-aa2f-4ee8-a011-a699185fb01c",
   "metadata": {},
   "source": [
    "### API"
   ]
  },
  {
   "cell_type": "code",
   "execution_count": 4,
   "id": "60555fd2-8c38-4f19-882c-b5b1cd9492cc",
   "metadata": {},
   "outputs": [
    {
     "name": "stdin",
     "output_type": "stream",
     "text": [
      "Enter city name:  New York\n"
     ]
    },
    {
     "name": "stdout",
     "output_type": "stream",
     "text": [
      " Temperature (Celcius) = 8.0\n",
      " Atmospheric pressure (hPa) = 1008\n",
      " Humidity (%) = 32\n",
      " Weather description: clear sky\n"
     ]
    }
   ],
   "source": [
    "#API key\n",
    "api_key = \"8f80c1279f8e13b4079ac130493b096e\"\n",
    " \n",
    "# base_url variable to store url\n",
    "base_url = \"http://api.openweathermap.org/data/2.5/weather?\"\n",
    " \n",
    "# Get city name\n",
    "city_name = input(\"Enter city name: \")\n",
    " \n",
    "# Get complete url\n",
    "complete_url = base_url + \"appid=\" + api_key + \"&q=\" + city_name\n",
    " \n",
    "# get method of requests module return response object\n",
    "response = requests.get(complete_url)\n",
    " \n",
    "# json method of response object to convert from json format to python format\n",
    "x = response.json()\n",
    " \n",
    "# Now x contains list of nested dictionaries\n",
    "# Check the value of \"cod\" key, if equal to \"404\"=> City is not found, otherwise it it will output the current weather\n",
    "\n",
    "if x[\"cod\"] == \"404\":\n",
    " print(\"City Not Found\")\n",
    "\n",
    "else:\n",
    "    # store the value of \"main\" key in variable y\n",
    "    y = x[\"main\"]\n",
    " \n",
    "    # store the value corresponding to the \"temp\" key of y\n",
    "    current_temperature = y[\"temp\"]\n",
    " \n",
    "    # store the value corresponding to the \"pressure\" key of y\n",
    "    current_pressure = y[\"pressure\"]\n",
    " \n",
    "    # store the value corresponding to the \"humidity\" key of y\n",
    "    current_humidity = y[\"humidity\"]\n",
    " \n",
    "    # store the value of \"weather\" key in variable z\n",
    "    z = x[\"weather\"]\n",
    " \n",
    "    # store the value corresponding to the \"description\" key at the 0th index of z\n",
    "    weather_description = z[0][\"description\"]\n",
    " \n",
    "    # print the output of the above variables for ebtered city \n",
    "    print(\" Temperature (Celcius) = \" +\n",
    "                    str(round(current_temperature - 273.15,0)) +\n",
    "          \"\\n Atmospheric pressure (hPa) = \" +\n",
    "                    str(current_pressure) +\n",
    "          \"\\n Humidity (%) = \" +\n",
    "                    str(current_humidity) +\n",
    "          \"\\n Weather description: \" +\n",
    "                    str(weather_description))\n",
    " \n",
    "\n",
    "    "
   ]
  },
  {
   "cell_type": "markdown",
   "id": "cb4ae876-13f9-43a3-ac64-8e0dd8ba4842",
   "metadata": {},
   "source": [
    "### Use Regex to extract a pattern "
   ]
  },
  {
   "cell_type": "code",
   "execution_count": 5,
   "id": "ce8fa64e-2b76-43f7-8924-d4515c7a3572",
   "metadata": {},
   "outputs": [
    {
     "name": "stdout",
     "output_type": "stream",
     "text": [
      "From r  Wed Oct 30 21:41:56 2002\n",
      "Return-Path: <james_ngola2002@maktoob.com>\n",
      "X-Sieve: cmu-sieve 2.0\n",
      "Return-Path: <james_ngola2002@maktoob.com>\n",
      "Message-Id: <200210310241.g9V2fNm6028281@cs.CU>\n",
      "From: \"MR. JAMES NGOLA.\" <james_ngola2002@maktoob.com>\n",
      "Reply-To: james_ngola2002@maktoob.com\n",
      "To: webmaster@aclweb.org\n",
      "Date: Thu, 31 Oct 2002 02:38:20 +0000\n",
      "Subject: URGENT BUSINESS ASSISTANCE AND PARTNERSHIP\n",
      "X-Mailer: Microsoft Outlook Express 5.00.2919.6900 DM\n",
      "MIME-Version: 1.0\n",
      "Content-Type: text/plain; charset=\"us-ascii\"\n",
      "Content-Transfer-Encoding: 8bit\n",
      "X-MIME-Autoconverted: from quoted-printable to 8bit by sideshowmel.si.UM id g9V2foW24311\n",
      "Status: O\n",
      "\n",
      "FROM:MR. JAMES NGOLA.\n",
      "CONFIDENTIAL TEL: 233-27-587908.\n",
      "E-MAIL: (james_ngola2002@maktoob.com).\n",
      "\n",
      "URGENT BUSINESS ASSISTANCE AND PARTNERSHIP.\n",
      "\n",
      "\n",
      "DEAR FRIEND,\n",
      "\n",
      "I AM ( DR.) JAMES NGOLA, THE PERSONAL ASSISTANCE TO THE LATE CONGOLESE (PRESIDENT LAURENT KABILA) WHO WAS ASSASSINATED BY HIS BODY GUARD ON 16TH JAN. 2001.\n",
      "\n",
      "\n",
      "THE INCIDENT OCCURRED IN OUR PRESENCE WHILE WE WERE HOLDING MEETING WITH HIS EXCELLENCY OVER THE FINANCIAL RETURNS FROM THE DIAMOND SALES IN THE AREAS CONTROLLED BY (D.R.C.) DEMOCRATIC REPUBLIC OF CONGO FORCES AND THEIR FOREIGN ALLIES ANGOLA AND ZIMBABWE, HAVING RECEIVED THE PREVIOUS DAY (USD$100M) ONE HUNDRED MILLION UNITED STATES DOLLARS, CASH IN THREE DIPLOMATIC BOXES ROUTED THROUGH ZIMBABWE.\n",
      "\n",
      "MY PURPOSE OF WRITING YOU THIS LETTER IS TO SOLICIT FOR YOUR ASSISTANCE AS TO BE A COVER TO THE FUND AND ALSO COLLABORATION IN MOVING THE SAID FUND INTO YOUR BANK ACCOUNT THE SUM OF (USD$25M) TWENTY FIVE MILLION UNITED STATES DOLLARS ONLY, WHICH I DEPOSITED WITH A SECURITY COMPANY IN GHANA, IN A DIPLOMATIC BOX AS GOLDS WORTH (USD$25M) TWENTY FIVE MILLION UNITED STATES DOLLARS ONLY FOR SAFE KEEPING IN A SECURITY VAULT FOR ANY FURTHER INVESTMENT PERHAPS IN YOUR COUNTRY. \n",
      "\n",
      "YOU WERE INTRODUCED TO ME BY A RELIABLE FRIEND OF MINE WHO IS A TRAVELLER,AND ALSO A MEMBER OF CHAMBER OF COMMERCE AS A RELIABLE AND TRUSTWORTHY PERSON WHOM I CAN RELY ON AS FOREIGN PARTNER, EVEN THOUGH THE NATURE OF THE TRANSACTION WAS NOT REVEALED TO HIM FOR SECURITY REASONS.\n",
      "\n",
      "\n",
      "THE (USD$25M) WAS PART OF A PROCEEDS FROM DIAMOND TRADE MEANT FOR THE LATE PRESIDENT LAURENT KABILA WHICH WAS DELIVERED THROUGH ZIMBABWE IN DIPLOMATIC BOXES. THE BOXES WERE KEPT UNDER MY CUSTODY BEFORE THE SAD EVENT THAT TOOK THE LIFE OF (MR. PRESIDENT).THE CONFUSION THAT ENSUED AFTER THE ASSASSINATION AND THE SPORADIC SHOOTING AMONG THE FACTIONS, I HAVE TO RUN AWAY FROM THE COUNTRY FOR MY DEAR LIFE AS I AM NOT A SOLDIER BUT A CIVIL SERVANT I CROSSED RIVER CONGO TO OTHER SIDE OF CONGO LIBREVILLE FROM THERE I MOVED TO THE THIRD COUNTRY GHANA WHERE I AM PRESENTLY TAKING REFUGE. \n",
      "\n",
      "AS A MATTER OF FACT, WHAT I URGENTLY NEEDED FROM YOU IS YOUR ASSISTANCE IN MOVING THIS MONEY INTO YOUR ACCOUNT IN YOUR COUNTRY FOR INVESTMENT WITHOUT RAISING EYEBROW. FOR YOUR ASSISTANCE I WILL GIVE YOU 20% OF THE TOTAL SUM AS YOUR OWN SHARE WHEN THE MONEY GETS TO YOUR ACCOUNT, WHILE 75% WILL BE FOR ME, OF WHICH WITH YOUR KIND ADVICE I HOPE TO INVEST IN PROFITABLE VENTURE IN YOUR COUNTRY IN OTHER TO SETTLE DOWN FOR MEANINGFUL LIFE, AS I AM TIRED OF LIVING IN A WAR ENVIRONMENT. \n",
      "\n",
      "THE REMAINING 5% WILL BE USED TO OFFSET ANY COST INCURRED IN THE CAUSE OF MOVING THE MONEY TO YOUR ACCOUNT. IF THE PROPOSAL IS ACCEPTABLE TO YOU PLEASE CONTACT ME IMMEDIATELY THROUGH THE ABOVE TELEPHONE AND E-MAIL, TO ENABLE ME ARRANGE FACE TO FACE MEETING WITH YOU IN GHANA FOR THE CLEARANCE OF THE FUNDS BEFORE TRANSFRING IT TO YOUR BANK ACCOUNT AS SEEING IS BELIEVING. \n",
      "\n",
      "FINALLY, IT IS IMPORTANT ALSO THAT I LET YOU UNDERSTAND THAT THERE IS NO RISK INVOLVED WHATSOEVER AS THE MONEY HAD NO RECORD IN KINSHASA FOR IT WAS MEANT FOR THE PERSONAL USE OF (MR. PRESIDEND ) BEFORE THE NEFARIOUS INCIDENT OCCURRED, AND ALSO I HAVE ALL THE NECESSARY DOCUMENTS AS REGARDS TO THE FUNDS INCLUDING THE (CERTIFICATE OF DEPOSIT), AS I AM THE DEPOSITOR OF THE CONSIGNMENT.\n",
      "\n",
      "\n",
      "LOOKING FORWARD TO YOUR URGENT RESPONSE.\n",
      "\n",
      "YOUR SINCERELY,\n",
      "\n",
      "MR. JAMES NGOLA. \n",
      "\n",
      "\n",
      "\n",
      "\n",
      "\n",
      "\n",
      "\n",
      "\n",
      "\n",
      "\n",
      "From r  Thu Oct 31 08:11:39 2002\n",
      "Return-Path: <bensul2004nng@spinfinder.com>\n",
      "X-Sieve: cmu-sieve 2.0\n",
      "Return-Path: <bensul2004nng@spinfinder.com>\n",
      "Message-Id: <200210311310.g9VDANt24674@bloodwork.mr.itd.UM>\n",
      "From: \"Mr. Ben Suleman\" <bensul2004nng@spinfinder.com>\n",
      "Date: Thu, 31 Oct 2002 05:10:00\n",
      "To: R@M\n",
      "Subject: URGENT ASSISTANCE /RELATIONSHIP (P)\n",
      "MIME-Version: 1.0\n",
      "Content-Type: text/plain;charset=\"iso-8859-1\"\n",
      "Content-Transfer-Encoding: 7bit\n",
      "Status: O\n",
      "\n",
      "Dear Friend,\n",
      "\n",
      "I am Mr. Ben Suleman a custom officer and work as Assistant controller of the Customs and Excise department Of the Federal Ministry of Internal Affairs stationed at the Murtala Mohammed International Airport, Ikeja, Lagos-Nigeria.\n",
      "\n",
      "After the sudden death of the former Head of state of Nigeria General Sanni Abacha on June 8th 1998 his aides and immediate members of his family were arrested while trying to escape from Nigeria in a Chartered jet to Saudi Arabia with 6 trunk boxes Marked \"Diplomatic Baggage\". Acting on a tip-off as they attempted to board the Air Craft,my officials carried out a thorough search on the air craft and discovered that the 6 trunk boxes contained foreign currencies amounting to US$197,570,000.00(One Hundred and  Ninety-Seven Million Five Hundred Seventy Thousand United States Dollars).\n",
      "\n",
      "I declared only (5) five boxes to the government and withheld one (1) in my custody containing the sum of (US$30,000,000.00) Thirty Million United States Dollars Only, which has been disguised to prevent their being discovered during transportation process.Due to several media reports on the late head of state about all the money him and his co-government officials stole from our government treasury amounting\n",
      "to US$55 Billion Dollars (ref:ngrguardiannews.com) of July 2nd 1999. Even the London times of July 1998 reported that General Abacha has over US$3.Billion dollars in one account overseas. We decided to conceal this one (1)box till the situation is calm and quite on the issue. The box was thus deposited with a security company here in Nigeria and tagged as \"Precious Stones and Jewellry\" in other that its\n",
      "content will not be discovered. Now that all is calm, we (myself and two of my colleagues in the operations team) are now ready to move this box out of the country through a diplomatic arrangement which is the safest means. \n",
      "\n",
      "However as government officials the Civil Service Code of Conduct does not allow us by law to operate any foreign account or own foreign investment and the amount of money that can be found in our account\n",
      "cannot be more than our salary on the average, thus our handicapp and our need for your assistance to help collect and keep safely in your account this money.\n",
      "\n",
      "Therefore we want you to assist us in moving this money out of Nigeria. We shall definitely compensate you handsomely for the assistance. We can do this by instructing the Security Company here in Nigeria to\n",
      "move the consignment to their affiliate branch office outside Nigeria through diplomatic means and the consignment will be termed as Precious Stones and Jewelleries\" which you bought during your visit to Nigeria and is being transfered to your country from here for safe keeping. Then we can arrange to meet at the destination country to take the delivery of the consignment. You will thereafter open an account there and lodge the Money there and gradually instruct remittance to your Country. \n",
      "\n",
      "This business is 100% risk free for you so please treat this matter with utmost confidentiality .If you indicate your interest to assist us please just e-mail me for more Explanation on how we plan to execute the transaction.\n",
      "\n",
      "Expecting your response urgently.\n",
      "\n",
      "Best regards,\n",
      "\n",
      "Mr. Ben Suleman\n",
      "\n",
      "From r  Thu Oct 31 17:27:16 2002\n",
      "Return-Path: <obong_715@epatra.com>\n",
      "X-Sieve: cmu-sieve 2.0\n",
      "Return-Path: <obong_715@epatra.com>\n",
      "Message-Id: <200210312227.g9VMQvDj017948@bluewhale.cs.CU>\n",
      "From: \"PRINCE OBONG ELEME\" <obong_715@epatra.com>\n",
      "Reply-To: obong_715@epatra.com\n",
      "To: webmaster@aclweb.org\n",
      "Date: Thu, 31 Oct 2002 22:17:55 +0100\n",
      "Subject: GOOD DAY TO YOU\n",
      "X-Mailer: Microsoft Outlook Express 5.00.2919.6900DM\n",
      "MIME-Version: 1.0\n",
      "Content-Type: text/plain; charset=\"us-ascii\"\n",
      "Content-Transfer-Encoding: 8bit\n",
      "X-MIME-Autoconverted: from quoted-printable to 8bit by sideshowmel.si.UM id g9VMRBW20642\n",
      "Status: RO\n",
      "\n",
      "FROM HIS ROYAL MAJESTY (HRM) CROWN RULER OF ELEME KINGDOM \n",
      "CHIEF DANIEL ELEME, PHD, EZE 1 OF ELEME.E-MAIL \n",
      "ADDRESS:obong_715@epatra.com  \n",
      "\n",
      "ATTENTION:PRESIDENT,CEO Sir/ Madam. \n",
      "\n",
      "This letter might surprise you because we have met\n",
      "neither in person nor by correspondence. But I believe\n",
      "it is one day that you got to know somebody either in\n",
      "physical or through correspondence. \n",
      "\n",
      "I got your contact through discreet inquiry from the\n",
      "chambers of commerce and industry of your country on\n",
      "the net, you and your organization were revealed as\n",
      "being quite astute in private entrepreneurship, one\n",
      "has no doubt in your ability to handle a financialbusiness transaction. \n",
      "\n",
      "However, I am the first son of His Royal\n",
      "majesty,Obong.D. Eleme , and the traditional Ruler of\n",
      "Eleme Province in the oil producing area of River\n",
      "State of Nigeria. I am making this contact to you in\n",
      "respect of US$60,000,000.00 (Sixty Million United\n",
      "State Dollars), which I inherited, from my latefather. \n",
      "\n",
      "This money was accumulated from royalties paid to my\n",
      "father as compensation by the oil firms located in our\n",
      "area as a result of oil presence on our land, which\n",
      "hamper agriculture, which is our major source oflivelihood. \n",
      "\n",
      "Unfortunately my father died from protracted\n",
      "diabetes.But before his death he called my attention\n",
      "and informed me that he lodged some funds on a two\n",
      "boxes with a security firm with an open beneficiary\n",
      "status. The lodgment security code number was also\n",
      "revealed to me, he then advised me to look for a\n",
      "reliable business partner abroad, that will assist me\n",
      "in investing the money in a lucrative business as a\n",
      "result of economic instability in Nigeria. So this is\n",
      "the main reason why I am contacting you for us to move\n",
      "this money from the security firm to any Country of\n",
      "your choice for investment purpose. \n",
      "\n",
      "So I will like you to be the ultimate beneficiary, so\n",
      "that the funds can be moved in your name and\n",
      "particulars to any Country of your choice where it\n",
      "will be claimed and invested. Hence my father have had\n",
      "intimated the security firm personnel that the\n",
      "beneficiary of the box is his foreign partner whose\n",
      "particulars will be forwarded to the firm when due. \n",
      "\n",
      "But I will guide you Accordingly. As soon as the funds\n",
      "reach, I will then come over to meet you in person, so\n",
      "that we can discuss physically on investment\n",
      "potentials. Based on this assistance my Family and I\n",
      "have unanimously decided to give you 30% of the total\n",
      "money, 5% for Charity home, 10% for expenses, which\n",
      "may arise during this transaction, Fax and phone bills\n",
      "inclusive. The balance of 55% you will invest andmanaged for my Family. \n",
      "\n",
      "I hereby guarantee you that this is not government\n",
      "money, it is not drug money and it is not money from\n",
      "arms deal. Though you have to maintain high degree of\n",
      "confidentiality on this matter. I will give more\n",
      "details about the proceedings of this transaction as\n",
      "soon as I receive your favorable reply. \n",
      "\n",
      "Please reply to my Email Address:obong_715@epatra.com\n",
      "I hope this will be the beginning of a prosperous\n",
      "relationship between my family and your family. \n",
      "\n",
      "Nevertheless if you are for any reason not interested,\n",
      "kindly inform me immediately so that I will look foranother contact. \n",
      "\n",
      "I am waiting for your quick response. \n",
      "\n",
      "Yours faithfully, \n",
      "\n",
      "Prince Obong Abbot \n",
      "\n",
      "\n",
      "From r  Thu Oct 31 17:53:56 2002\n",
      "Return-Path: <obong_715@epatra.com>\n",
      "X-Sieve: cmu-sieve 2.0\n",
      "Return-Path: <obong_715@epatra.com>\n",
      "Message-Id: <200210312253.g9VMreDj018024@bluewhale.cs.CU>\n",
      "From: \"PRINCE OBONG ELEME\" <obong_715@epatra.com>\n",
      "Date: Thu, 31 Oct 2002 22:44:20\n",
      "To: webmaster@aclweb.org\n",
      "Subject: GOOD DAY TO YOU\n",
      "MIME-Version: 1.0\n",
      "Content-Type: text/plain;charset=\"iso-8859-1\"\n",
      "Content-Transfer-Encoding: 7bit\n",
      "Status: RO\n",
      "\n",
      "FROM HIS ROYAL MAJESTY (HRM) CROWN RULER OF ELEME KINGDOM \n",
      "CHIEF DANIEL ELEME, PHD, EZE 1 OF ELEME.E-MAIL \n",
      "ADDRESS:obong_715@epatra.com  \n",
      "\n",
      "ATTENTION:PRESIDENT,CEO Sir/ Madam. \n",
      "\n",
      "This letter might surprise you because we have met\n",
      "neither in person nor by correspondence. But I believe\n",
      "it is one day that you got to know somebody either in\n",
      "physical or through correspondence. \n",
      "\n",
      "I got your contact through discreet inquiry from the\n",
      "chambers of commerce and industry of your country on\n",
      "the net, you and your organization were revealed as\n",
      "being quite astute in private entrepreneurship, one\n",
      "has no doubt in your ability to handle a financialbusiness transaction. \n",
      "\n",
      "However, I am the first son of His Royal\n",
      "majesty,Obong.D. Eleme , and the traditional Ruler of\n",
      "Eleme Province in the oil producing area of River\n",
      "State of Nigeria. I am making this contact to you in\n",
      "respect of US$60,000,000.00 (Sixty Million United\n",
      "State Dollars), which I inherited, from my latefather. \n",
      "\n",
      "This money was accumulated from royalties paid to my\n",
      "father as compensation by the oil firms located in our\n",
      "area as a result of oil presence on our land, which\n",
      "hamper agriculture, which is our major source oflivelihood. \n",
      "\n",
      "Unfortunately my father died from protracted\n",
      "diabetes.But before his death he called my attention\n",
      "and informed me that he lodged some funds on a two\n",
      "boxes with a security firm with an open beneficiary\n",
      "status. The lodgment security code number was also\n",
      "revealed to me, he then advised me to look for a\n",
      "reliable business partner abroad, that will assist me\n",
      "in investing the money in a lucrative business as a\n",
      "result of economic instability in Nigeria. So this is\n",
      "the main reason why I am contacting you for us to move\n",
      "this money from the security firm to any Country of\n",
      "your choice for investment purpose. \n",
      "\n",
      "So I will like you to be the ultimate beneficiary, so\n",
      "that the funds can be moved in your name and\n",
      "particulars to any Country of your choice where it\n",
      "will be claimed and invested. Hence my father have had\n",
      "intimated the security firm personnel that the\n",
      "beneficiary of the box is his foreign partner whose\n",
      "particulars will be forwarded to the firm when due. \n",
      "\n",
      "But I will guide you Accordingly. As soon as the funds\n",
      "reach, I will then come over to meet you in person, so\n",
      "that we can discuss physically on investment\n",
      "potentials. Based on this assistance my Family and I\n",
      "have unanimously decided to give you 30% of the total\n",
      "money, 5% for Charity home, 10% for expenses, which\n",
      "may arise during this transaction, Fax and phone bills\n",
      "inclusive. The balance of 55% you will invest andmanaged for my Family. \n",
      "\n",
      "I hereby guarantee you that this is not government\n",
      "money, it is not drug money and it is not money from\n",
      "arms deal. Though you have to maintain high degree of\n",
      "confidentiality on this matter. I will give more\n",
      "details about the proceedings of this transaction as\n",
      "soon as I receive your favorable reply. \n",
      "\n",
      "Please reply to my Email Address:obong_715@epatra.com\n",
      "I hope this will be the beginning of a prosperous\n",
      "relationship between my family and your family. \n",
      "\n",
      "Nevertheless if you are for any reason not interested,\n",
      "kindly inform me immediately so that I will look foranother contact. \n",
      "\n",
      "I am waiting for your quick response. \n",
      "\n",
      "Yours faithfully, \n",
      "\n",
      "Prince Obong Eleme\n",
      "\n",
      "From r  Fri Nov  1 04:48:39 2002\n",
      "Return-Path: <m_abacha03@www.com>\n",
      "X-Sieve: cmu-sieve 2.0\n",
      "Return-Path: <m_abacha03@www.com>\n",
      "Message-Id: <200211010948.gA19mLu22932@perfectworld.mr.itd.UM>\n",
      "From: \"Maryam Abacha\" <m_abacha03@www.com>\n",
      "Reply-To: m_abacha03@www.com\n",
      "To: R@M\n",
      "Date: Fri, 1 Nov 2002 01:45:04 +0100\n",
      "Subject: I Need Your Assistance.\n",
      "X-Mailer: Microsoft Outlook Express 5.00.2919.6900 DM\n",
      "MIME-Version: 1.0\n",
      "Content-Type: text/plain; charset=\"us-ascii\"\n",
      "Content-Transfer-Encoding: 8bit\n",
      "X-MIME-Autoconverted: from quoted-printable to 8bit by sideshowmel.si.UM id gA19mVW29040\n",
      "Status: RO\n",
      "\n",
      "Dear sir, \n",
      " \n",
      "It is with a heart full of hope that I write to seek your help in respect of the context below. I am Mrs. Maryam Abacha the former first lady of the former Military Head of State of Nigeria General Sani Abacha whose sudden death occurred on 8th of June 1998 as a result of cardiac arrest (heart attack) while on the seat of power. \n",
      "I have no doubt about your capability and good-will to assist me in receiving into your custody (for safety) the sum of US$25 Million willed and deposited in my favour by my late husband in a security and deposit company. Though my contact to you for this assistance is not anchored on any personal ecommendation, I pray your understanding, good will and sincere assistance to respond to this message with honest intensions and concern. \n",
      "This money is currently deposited here with a security company as miscellaneous awaiting collection and according to the agreement entered into at the time of deposit between my late husband and the Security Company at the time of deposit; the collection centre is in Ghana. As it is legally required, the administration of my late husband's properties is under the authority of the family's lawyer Tony Musa. \n",
      " \n",
      "My Dear JK, since the demise of my husband, the present regime has been probing my late husband's wealth and properties, the London Newsweek of 13th march 2000 referred. The investigating team led by Enrico Monfrini, the lawyer acting on behalf of the Nigerian government has so far submitted their report and presently, some liquid cash and assets, movable and immovable, have been frozen and seized both locally here and internationally and my last hope is rested on the immediate security of this fund in your custody. Also, Johnnie Cochran, the lawyer who defended OJ Simpson, has been brought in by the Abacha entourage to help them retain the disputed funds. Fortunately, our family lawyer had secretly protected the \"Personal will\" of my husband from the notice of the investigators and have strictly advised that the willed money be urgently moved into an overseas account of Trusted Foreign family friend without delay. For security reasons and f!\n",
      "urther advise,! no relations or fr! \n",
      "iends of ours should be used; as this is a measure of security. The government had earlier placed foreign travel embargo on all our family members and seized all known local and International outfits of our business empire. \n",
      "The situation has been so terrible that we are virtually living on the assistance of well-wishers. In view of this plight, I expect you to be trustworthy and kind enough to respond to this \"SOS\" call to save my children and I from a hopeless future. \n",
      "I hereby agree to compensate your sincere and candid effort, immensely, which will be discussed between you, the Attorney and I. On your immediate response, the Attorney will travel to Ghana where both of you will meet, and thereafter proceed to the deposit company for the claims. \n",
      "The documentations include, most importantly, Power of Attorney and Certificate of Deposit amongst few others. These documents will be sent to you by Fax, as you would have to present them for proper claims. \n",
      "Please, be rest assured that this transaction is completely safe and legal but must be kept strictly to yourself even after the funds have been secured into our custody. This is so because any leakage of information could ruin the whole transaction. \n",
      "Please all contacts must be made through my lawyer on his email: tony_m@lawyer.com This has to be so as he has been mandated to handle this matter and I have fully briefed him (my Attorney) on my contact to you. Due to my present circumstance, I have handed everything over to him to co - ordinate and finalize with you and I will communicate you as at when necessary. Please for the safety of this transaction, reply stating your phone and fax numbers to enable them contact you directly without running the risk of mail interception. \n",
      "I look forward to your quick response. \n",
      "Best Wishes, \n",
      "Mrs. Maryam Abacha \n",
      " \n",
      "\n",
      "\n",
      "From r  Sat Nov  2 00:18:06 2002\n",
      "Return-Path: <davidkuta@postmark.net>\n",
      "X-Sieve: cmu-sieve 2.0\n",
      "Return-Path: <davidkuta@postmark.net>\n",
      "\t02 Nov 2002 06:23:11 -0000\n",
      "Mime-Version: 1.0\n",
      "From: Kuta David <davidkuta@postmark.net>\n",
      "To: davidkuta@yahoo.com\n",
      "Subject: Partnership\n",
      "Date: Sat, 02 Nov 2002 06:23:11 +0000\n",
      "Content-Type: text/plain; charset=\"iso-8859-1\"\n",
      "Status: RO\n",
      "\n",
      "ATTENTION:                                    \n",
      "PRESIDENT/MANAGING DIRECTOR \n",
      "   \n",
      "Dear Sir/Madam, \n",
      "   \n",
      "Request for Urgent Business Relationship \n",
      "   \n",
      "We are Top Officials of the Federal Government of \n",
      "Nigeria Contract Review Panel who are interested in \n",
      "importation of goods into our country and \n",
      "investing abroad with funds which are presently \n",
      "trapped in Nigeria. \n",
      "In order to commence this business we solicit your \n",
      "assistance, knowledge and expertise to enable us \n",
      "recieve the said trapped  funds abroad, for the \n",
      "subsequent purchase and inventory of the goods to be \n",
      "Imported and the investment abroad. \n",
      "   \n",
      "The source of this fund is as follows: During the \n",
      "previous military regimes in our country, government \n",
      "officials set up companies and awarded themselves \n",
      "contracts which were grossly over-invoiced in \n",
      "various ministries. The new civilian government now \n",
      "setup  a contract review panel which i and my \n",
      "colleagues are members and we have identified a lot of \n",
      "inflated sum, due to our position  as civil servants \n",
      "and members of this panel, we cannot aquire this money \n",
      "in our names. \n",
      "I have therefore, been delegated as a matter of trust \n",
      "by my colleagues of the panel to look for an oversea \n",
      "partner into whose account the sum of us$31,000 000,00 \n",
      "(thirty-one million united states dollars) will be \n",
      "Paid by telegraphic transfer. Hence we are writting \n",
      "you this letter. \n",
      "\n",
      "We have agreed to share the money thus: \n",
      "1.  70% for us (the officials) \n",
      "2.  20% for the foreign patner(you) \n",
      "3.  10% to be used in settling taxation and local and \n",
      "Foreign expenses. \n",
      "\n",
      "It is this 70% that we wish to commence the \n",
      "importation business and the investment abroad. Please \n",
      "note that this transaction is 100% safe and we hope \n",
      "that the funds can arrive your account in latest \n",
      "ten(10) banking days from the date of reciept of the \n",
      "following information.A suitable company name and bank \n",
      "account(company or personel) into which the funds can \n",
      "be paid. \n",
      "   \n",
      "The above information will enable us write letters \n",
      "of claim and job  description respectively. This way \n",
      "we will use your company's name to apply for payments \n",
      "and re-award the contract to your company name. \n",
      "   \n",
      "We are looking foward to doing business with you and \n",
      "solicit your confidentiality  in this transaction. \n",
      "   \n",
      "Please acknowledge reciept of this letter using this \n",
      "e-mail address. \n",
      "davidkuta2002@yahoo.com \n",
      "I await your urgent response. \n",
      "\n",
      "NOTE: ALL CORRESPONDENCE SHOULD BE  CONFIDENTIAL. \n",
      "\n",
      "   \n",
      "Best Regards, \n",
      "David Kuta \n"
     ]
    }
   ],
   "source": [
    "with open('fraudulent_emails.txt') as f:\n",
    "    contents = f.read()\n",
    "    print(contents)"
   ]
  },
  {
   "cell_type": "markdown",
   "id": "3d4f67f0-1ce3-4239-9a4e-3c879af4c2c7",
   "metadata": {},
   "source": [
    "##### Try to find the sender, email address, date, email subjects from the emails "
   ]
  },
  {
   "cell_type": "code",
   "execution_count": 6,
   "id": "8aa5ce7a-c25e-40e7-b3b4-7e3f298e4c6c",
   "metadata": {},
   "outputs": [
    {
     "name": "stdout",
     "output_type": "stream",
     "text": [
      "From: \"MR. JAMES NGOLA.\" <james_ngola2002@maktoob.com>\n",
      "From: \"Mr. Ben Suleman\" <bensul2004nng@spinfinder.com>\n",
      "From: \"PRINCE OBONG ELEME\" <obong_715@epatra.com>\n",
      "From: \"PRINCE OBONG ELEME\" <obong_715@epatra.com>\n",
      "From: \"Maryam Abacha\" <m_abacha03@www.com>\n",
      "From: Kuta David <davidkuta@postmark.net>\n"
     ]
    }
   ],
   "source": [
    "# Find all senders of emails \n",
    "import re\n",
    "\n",
    "for line in re.findall(\"From:.*\", contents):\n",
    "    print(line)"
   ]
  },
  {
   "cell_type": "code",
   "execution_count": 7,
   "id": "f552375b-1eb5-4768-857b-6948f7b4fc84",
   "metadata": {},
   "outputs": [
    {
     "name": "stdout",
     "output_type": "stream",
     "text": [
      "['From: \"MR. JAMES NGOLA.\" <james_ngola2002@maktoob.com>', '']\n",
      "['From: \"Mr. Ben Suleman\" <bensul2004nng@spinfinder.com>', '']\n",
      "['From: \"PRINCE OBONG ELEME\" <obong_715@epatra.com>', '']\n",
      "['From: \"PRINCE OBONG ELEME\" <obong_715@epatra.com>', '']\n",
      "['From: \"Maryam Abacha\" <m_abacha03@www.com>', '']\n",
      "['From: Kuta David <davidkuta@postmark.net>', '']\n"
     ]
    }
   ],
   "source": [
    "match = re.findall(\"From:.*\", contents)\n",
    "\n",
    "for line in match:\n",
    "    print(re.findall('.*', line))"
   ]
  },
  {
   "cell_type": "code",
   "execution_count": 8,
   "id": "ac53dd25-408f-4089-8579-94631278ff59",
   "metadata": {},
   "outputs": [
    {
     "name": "stdout",
     "output_type": "stream",
     "text": [
      "['\"MR. JAMES NGOLA.\"']\n",
      "['\"Mr. Ben Suleman\"']\n",
      "['\"PRINCE OBONG ELEME\"']\n",
      "['\"PRINCE OBONG ELEME\"']\n",
      "['\"Maryam Abacha\"']\n",
      "[]\n"
     ]
    }
   ],
   "source": [
    "match = re.findall(\"From:.*\", contents)\n",
    "\n",
    "for line in match:\n",
    "    print(re.findall('\\\".*\\\"', line))"
   ]
  },
  {
   "cell_type": "markdown",
   "id": "fd703308-f1ae-4603-87c3-948f49864671",
   "metadata": {},
   "source": [
    "David kuta's name is not captured above as it does not lie between quotation marks as the other names do. "
   ]
  },
  {
   "cell_type": "code",
   "execution_count": 9,
   "id": "c443fa02-dc82-447f-8969-38aa90ca1d09",
   "metadata": {},
   "outputs": [
    {
     "name": "stdout",
     "output_type": "stream",
     "text": [
      "['From: ', 'MR. ', 'JAMES ', 'NGOLA.\" ', 'james_ngola2002@maktoob.com>']\n",
      "['From: ', 'Mr. ', 'Ben ', 'Suleman\" ', 'bensul2004nng@spinfinder.com>']\n",
      "['From: ', 'PRINCE ', 'OBONG ', 'ELEME\" ', 'obong_715@epatra.com>']\n",
      "['From: ', 'PRINCE ', 'OBONG ', 'ELEME\" ', 'obong_715@epatra.com>']\n",
      "['From: ', 'Maryam ', 'Abacha\" ', 'm_abacha03@www.com>']\n",
      "['From: ', 'Kuta ', 'David ', 'davidkuta@postmark.net>']\n"
     ]
    }
   ],
   "source": [
    "match = re.findall(\"From:.*\", contents)\n",
    "\n",
    "for line in match:\n",
    "    print(re.findall(\"\\w\\S*@*.\", line))"
   ]
  },
  {
   "cell_type": "code",
   "execution_count": 10,
   "id": "bf3484f0-0bd9-4cf4-a926-a90c0e9acc5e",
   "metadata": {},
   "outputs": [
    {
     "name": "stdout",
     "output_type": "stream",
     "text": [
      "['james_ngola2002@maktoob.com>']\n",
      "['bensul2004nng@spinfinder.com>']\n",
      "['obong_715@epatra.com>']\n",
      "['obong_715@epatra.com>']\n",
      "['m_abacha03@www.com>']\n",
      "['davidkuta@postmark.net>']\n"
     ]
    }
   ],
   "source": [
    "for line in match:\n",
    "    print(re.findall(\"\\w\\S*@\\w\\S*\", line))"
   ]
  },
  {
   "cell_type": "code",
   "execution_count": 11,
   "id": "38f3b5d1-3ba8-4d71-b077-3f3de9f4a716",
   "metadata": {},
   "outputs": [
    {
     "name": "stdout",
     "output_type": "stream",
     "text": [
      "['james_ngola2002@maktoob.com']\n",
      "['bensul2004nng@spinfinder.com']\n",
      "['obong_715@epatra.com']\n",
      "['obong_715@epatra.com']\n",
      "['m_abacha03@www.com']\n",
      "['davidkuta@postmark.net']\n"
     ]
    }
   ],
   "source": [
    "for line in match:\n",
    "    print(re.findall(\"\\w\\S*@.*\\w\", line))"
   ]
  },
  {
   "cell_type": "code",
   "execution_count": 12,
   "id": "d169a358-9500-4477-9b90-46c502e54a87",
   "metadata": {},
   "outputs": [
    {
     "name": "stdout",
     "output_type": "stream",
     "text": [
      "['@maktoob.com>']\n",
      "['@spinfinder.com>']\n",
      "['@epatra.com>']\n",
      "['@epatra.com>']\n",
      "['@www.com>']\n",
      "['@postmark.net>']\n"
     ]
    }
   ],
   "source": [
    "for line in match:\n",
    "    print(re.findall(\"@.*\", line))"
   ]
  },
  {
   "cell_type": "code",
   "execution_count": 13,
   "id": "044ad44f-86da-46fd-acdf-40e51e388086",
   "metadata": {},
   "outputs": [
    {
     "name": "stdout",
     "output_type": "stream",
     "text": [
      "['@maktoob.com']\n",
      "['@spinfinder.com']\n",
      "['@epatra.com']\n",
      "['@epatra.com']\n",
      "['@www.com']\n",
      "['@postmark.net']\n"
     ]
    }
   ],
   "source": [
    "for line in match:\n",
    "    print(re.findall(\"@.*\\w\", line))"
   ]
  },
  {
   "cell_type": "code",
   "execution_count": 14,
   "id": "8518319a-7ca9-4149-98d9-c2c672248803",
   "metadata": {},
   "outputs": [
    {
     "name": "stdout",
     "output_type": "stream",
     "text": [
      "james_ngola2002, maktoob.com\n",
      "bensul2004nng, spinfinder.com\n",
      "obong_715, epatra.com\n",
      "obong_715, epatra.com\n",
      "m_abacha03, www.com\n",
      "davidkuta, postmark.net\n"
     ]
    }
   ],
   "source": [
    "# Split email address up into a username and a domain name \n",
    "\n",
    "address = re.findall(\"From:.*\", contents)\n",
    "for item in address:\n",
    "    for line in re.findall(\"\\w\\S*@.*\\w\", item):\n",
    "        username, domain_name = re.split(\"@\", line)\n",
    "        print(\"{}, {}\".format(username, domain_name))"
   ]
  },
  {
   "cell_type": "code",
   "execution_count": 15,
   "id": "a225b842-4aad-4bac-b961-2cdcc5dd557f",
   "metadata": {},
   "outputs": [
    {
     "name": "stdout",
     "output_type": "stream",
     "text": [
      "From: \"MR. JAMES NGOLA.\" <james_ngola2002@maktoob.com>\n",
      "Email: \"MR. JAMES NGOLA.\" <james_ngola2002@maktoob.com>\n"
     ]
    }
   ],
   "source": [
    "# Using sub to substitute \"From\" with \"Email\" \n",
    "\n",
    "sender = re.search(\"From:.*\", contents)\n",
    "address = sender.group()\n",
    "email = re.sub(\"From\", \"Email\", address)\n",
    "print(address)\n",
    "print(email)"
   ]
  },
  {
   "cell_type": "code",
   "execution_count": 16,
   "id": "4cf8fe22-29c6-400f-87e8-f1dd39d5f889",
   "metadata": {},
   "outputs": [
    {
     "name": "stdout",
     "output_type": "stream",
     "text": [
      "To: james_ngola2002@maktoob.com\n",
      "To: webmaster@aclweb.org\n",
      "To: R@M\n",
      "To: obong_715@epatra.com\n",
      "To: webmaster@aclweb.org\n",
      "To: webmaster@aclweb.org\n",
      "To: m_abacha03@www.com\n",
      "To: R@M\n",
      "To: davidkuta@yahoo.com\n"
     ]
    }
   ],
   "source": [
    "match = re.findall(\"To:.*\", contents)\n",
    "\n",
    "for line in match:\n",
    "    #print(re.findall(\"\\w\\S*@*.\", line))\n",
    "    print(re.sub(\"To: '\\', \", \"\",  line))"
   ]
  },
  {
   "cell_type": "code",
   "execution_count": 17,
   "id": "9f09adb8-a149-458a-88fd-e5ed791d6c47",
   "metadata": {},
   "outputs": [
    {
     "name": "stdout",
     "output_type": "stream",
     "text": [
      "To: james_ngola2002@maktoob.com\n",
      "To: webmaster@aclweb.org\n",
      "To: R@M\n",
      "To: obong_715@epatra.com\n",
      "To: webmaster@aclweb.org\n",
      "To: webmaster@aclweb.org\n",
      "To: m_abacha03@www.com\n",
      "To: R@M\n",
      "To: davidkuta@yahoo.com\n"
     ]
    }
   ],
   "source": [
    "match = re.findall(\"To:.*\", contents)\n",
    "\n",
    "for line in match:\n",
    "    #print(re.findall(\"\\w\\S*@*.\", line))\n",
    "    print(re.sub(\"\\w+\\D\\s+'\\', \", \"\",  line))"
   ]
  },
  {
   "cell_type": "code",
   "execution_count": 18,
   "id": "6f77c66f-4102-4da1-af1d-cd0cdfc4b76b",
   "metadata": {},
   "outputs": [
    {
     "name": "stdout",
     "output_type": "stream",
     "text": [
      "To: james_ngola2002@maktoob.com\n",
      "To: webmaster@aclweb.org\n",
      "To: R@M\n",
      "To: obong_715@epatra.com\n",
      "To: webmaster@aclweb.org\n",
      "To: webmaster@aclweb.org\n",
      "To: m_abacha03@www.com\n",
      "To: R@M\n",
      "To: davidkuta@yahoo.com\n"
     ]
    }
   ],
   "source": [
    "match = re.findall(\"To:.*\", contents)\n",
    "\n",
    "for line in match:\n",
    "    #print(re.findall(\"\\w\\S*@*.\", line))\n",
    "    print(re.sub(r\"To$ '\\', \", \"\",  line))"
   ]
  },
  {
   "cell_type": "code",
   "execution_count": 19,
   "id": "e318d81e-1a7f-4aed-9db5-0fcb0a0116c9",
   "metadata": {},
   "outputs": [
    {
     "name": "stdout",
     "output_type": "stream",
     "text": [
      "['To: ', 'james_ngola2002@maktoob.com']\n",
      "['To: ', 'webmaster@aclweb.org']\n",
      "['To: ', 'R@M']\n",
      "['To: ', 'obong_715@epatra.com']\n",
      "['To: ', 'webmaster@aclweb.org']\n",
      "['To: ', 'webmaster@aclweb.org']\n",
      "['To: ', 'm_abacha03@www.com']\n",
      "['To: ', 'R@M']\n",
      "['To: ', 'davidkuta@yahoo.com']\n"
     ]
    }
   ],
   "source": [
    "match = re.findall(\"To:.*\", contents)\n",
    "\n",
    "for line in match:\n",
    "    print(re.findall(\"\\w\\S*@*.\", line))"
   ]
  },
  {
   "cell_type": "code",
   "execution_count": 20,
   "id": "39958edb-e6a5-4880-8dc6-1e8dbc47e1a1",
   "metadata": {},
   "outputs": [
    {
     "name": "stdout",
     "output_type": "stream",
     "text": [
      "['Date: ', 'Thu, ', '31 ', 'Oct ', '2002 ', '02:38:20 ', '0000']\n",
      "['Date: ', 'Thu, ', '31 ', 'Oct ', '2002 ', '05:10:00']\n",
      "['Date: ', 'Thu, ', '31 ', 'Oct ', '2002 ', '22:17:55 ', '0100']\n",
      "['Date: ', 'Thu, ', '31 ', 'Oct ', '2002 ', '22:44:20']\n",
      "['Date: ', 'Fri, ', '1 ', 'Nov ', '2002 ', '01:45:04 ', '0100']\n",
      "['Date: ', 'Sat, ', '02 ', 'Nov ', '2002 ', '06:23:11 ', '0000']\n"
     ]
    }
   ],
   "source": [
    "#Find the date\n",
    "match = re.findall(\"Date:.*\", contents)\n",
    "\n",
    "for line in match:\n",
    "    print(re.findall(\"\\w\\S*@*.\", line))"
   ]
  },
  {
   "cell_type": "markdown",
   "id": "77a36bc7-1c73-46e9-acc4-eb836f2580e4",
   "metadata": {},
   "source": [
    "### Merge Dataframes "
   ]
  },
  {
   "cell_type": "code",
   "execution_count": 21,
   "id": "871221cf-a6f1-44ee-acb0-de513f46f673",
   "metadata": {},
   "outputs": [],
   "source": [
    "# Merge data frames\n",
    "\n",
    "# Load restaurant ratings and parking data into dataframes\n",
    "ratings = pd.read_csv(\"rating_final.csv\")\n",
    "parking = pd.read_csv(\"chefmozparking.csv\")"
   ]
  },
  {
   "cell_type": "code",
   "execution_count": 22,
   "id": "e5aa2498-0c05-423c-98e4-4f1661939168",
   "metadata": {},
   "outputs": [
    {
     "data": {
      "text/html": [
       "<div>\n",
       "<style scoped>\n",
       "    .dataframe tbody tr th:only-of-type {\n",
       "        vertical-align: middle;\n",
       "    }\n",
       "\n",
       "    .dataframe tbody tr th {\n",
       "        vertical-align: top;\n",
       "    }\n",
       "\n",
       "    .dataframe thead th {\n",
       "        text-align: right;\n",
       "    }\n",
       "</style>\n",
       "<table border=\"1\" class=\"dataframe\">\n",
       "  <thead>\n",
       "    <tr style=\"text-align: right;\">\n",
       "      <th></th>\n",
       "      <th>userID</th>\n",
       "      <th>placeID</th>\n",
       "      <th>rating</th>\n",
       "      <th>food_rating</th>\n",
       "      <th>service_rating</th>\n",
       "    </tr>\n",
       "  </thead>\n",
       "  <tbody>\n",
       "    <tr>\n",
       "      <th>0</th>\n",
       "      <td>U1077</td>\n",
       "      <td>135085</td>\n",
       "      <td>2</td>\n",
       "      <td>2</td>\n",
       "      <td>2</td>\n",
       "    </tr>\n",
       "    <tr>\n",
       "      <th>1</th>\n",
       "      <td>U1077</td>\n",
       "      <td>135038</td>\n",
       "      <td>2</td>\n",
       "      <td>2</td>\n",
       "      <td>1</td>\n",
       "    </tr>\n",
       "    <tr>\n",
       "      <th>2</th>\n",
       "      <td>U1077</td>\n",
       "      <td>132825</td>\n",
       "      <td>2</td>\n",
       "      <td>2</td>\n",
       "      <td>2</td>\n",
       "    </tr>\n",
       "    <tr>\n",
       "      <th>3</th>\n",
       "      <td>U1077</td>\n",
       "      <td>135060</td>\n",
       "      <td>1</td>\n",
       "      <td>2</td>\n",
       "      <td>2</td>\n",
       "    </tr>\n",
       "    <tr>\n",
       "      <th>4</th>\n",
       "      <td>U1068</td>\n",
       "      <td>135104</td>\n",
       "      <td>1</td>\n",
       "      <td>1</td>\n",
       "      <td>2</td>\n",
       "    </tr>\n",
       "  </tbody>\n",
       "</table>\n",
       "</div>"
      ],
      "text/plain": [
       "  userID  placeID  rating  food_rating  service_rating\n",
       "0  U1077   135085       2            2               2\n",
       "1  U1077   135038       2            2               1\n",
       "2  U1077   132825       2            2               2\n",
       "3  U1077   135060       1            2               2\n",
       "4  U1068   135104       1            1               2"
      ]
     },
     "execution_count": 22,
     "metadata": {},
     "output_type": "execute_result"
    }
   ],
   "source": [
    "ratings.head()"
   ]
  },
  {
   "cell_type": "code",
   "execution_count": 23,
   "id": "15aa49db-1970-4b67-909e-3c7d3f5b5f8c",
   "metadata": {},
   "outputs": [
    {
     "data": {
      "text/html": [
       "<div>\n",
       "<style scoped>\n",
       "    .dataframe tbody tr th:only-of-type {\n",
       "        vertical-align: middle;\n",
       "    }\n",
       "\n",
       "    .dataframe tbody tr th {\n",
       "        vertical-align: top;\n",
       "    }\n",
       "\n",
       "    .dataframe thead th {\n",
       "        text-align: right;\n",
       "    }\n",
       "</style>\n",
       "<table border=\"1\" class=\"dataframe\">\n",
       "  <thead>\n",
       "    <tr style=\"text-align: right;\">\n",
       "      <th></th>\n",
       "      <th>placeID</th>\n",
       "      <th>parking_lot</th>\n",
       "    </tr>\n",
       "  </thead>\n",
       "  <tbody>\n",
       "    <tr>\n",
       "      <th>0</th>\n",
       "      <td>135111</td>\n",
       "      <td>public</td>\n",
       "    </tr>\n",
       "    <tr>\n",
       "      <th>1</th>\n",
       "      <td>135110</td>\n",
       "      <td>none</td>\n",
       "    </tr>\n",
       "    <tr>\n",
       "      <th>2</th>\n",
       "      <td>135109</td>\n",
       "      <td>none</td>\n",
       "    </tr>\n",
       "    <tr>\n",
       "      <th>3</th>\n",
       "      <td>135108</td>\n",
       "      <td>none</td>\n",
       "    </tr>\n",
       "    <tr>\n",
       "      <th>4</th>\n",
       "      <td>135107</td>\n",
       "      <td>none</td>\n",
       "    </tr>\n",
       "  </tbody>\n",
       "</table>\n",
       "</div>"
      ],
      "text/plain": [
       "   placeID parking_lot\n",
       "0   135111      public\n",
       "1   135110        none\n",
       "2   135109        none\n",
       "3   135108        none\n",
       "4   135107        none"
      ]
     },
     "execution_count": 23,
     "metadata": {},
     "output_type": "execute_result"
    }
   ],
   "source": [
    "parking.head()"
   ]
  },
  {
   "cell_type": "code",
   "execution_count": 24,
   "id": "0fb5be10-2941-4ddb-815a-6160f1f2d044",
   "metadata": {},
   "outputs": [
    {
     "data": {
      "text/html": [
       "<div>\n",
       "<style scoped>\n",
       "    .dataframe tbody tr th:only-of-type {\n",
       "        vertical-align: middle;\n",
       "    }\n",
       "\n",
       "    .dataframe tbody tr th {\n",
       "        vertical-align: top;\n",
       "    }\n",
       "\n",
       "    .dataframe thead th {\n",
       "        text-align: right;\n",
       "    }\n",
       "</style>\n",
       "<table border=\"1\" class=\"dataframe\">\n",
       "  <thead>\n",
       "    <tr style=\"text-align: right;\">\n",
       "      <th></th>\n",
       "      <th>userID</th>\n",
       "      <th>placeID</th>\n",
       "      <th>rating</th>\n",
       "      <th>food_rating</th>\n",
       "      <th>service_rating</th>\n",
       "      <th>parking_lot</th>\n",
       "    </tr>\n",
       "  </thead>\n",
       "  <tbody>\n",
       "    <tr>\n",
       "      <th>0</th>\n",
       "      <td>U1077</td>\n",
       "      <td>135085</td>\n",
       "      <td>2</td>\n",
       "      <td>2</td>\n",
       "      <td>2</td>\n",
       "      <td>public</td>\n",
       "    </tr>\n",
       "    <tr>\n",
       "      <th>1</th>\n",
       "      <td>U1077</td>\n",
       "      <td>135038</td>\n",
       "      <td>2</td>\n",
       "      <td>2</td>\n",
       "      <td>1</td>\n",
       "      <td>none</td>\n",
       "    </tr>\n",
       "    <tr>\n",
       "      <th>2</th>\n",
       "      <td>U1077</td>\n",
       "      <td>132825</td>\n",
       "      <td>2</td>\n",
       "      <td>2</td>\n",
       "      <td>2</td>\n",
       "      <td>none</td>\n",
       "    </tr>\n",
       "    <tr>\n",
       "      <th>3</th>\n",
       "      <td>U1077</td>\n",
       "      <td>135060</td>\n",
       "      <td>1</td>\n",
       "      <td>2</td>\n",
       "      <td>2</td>\n",
       "      <td>none</td>\n",
       "    </tr>\n",
       "    <tr>\n",
       "      <th>4</th>\n",
       "      <td>U1068</td>\n",
       "      <td>135104</td>\n",
       "      <td>1</td>\n",
       "      <td>1</td>\n",
       "      <td>2</td>\n",
       "      <td>yes</td>\n",
       "    </tr>\n",
       "  </tbody>\n",
       "</table>\n",
       "</div>"
      ],
      "text/plain": [
       "  userID  placeID  rating  food_rating  service_rating parking_lot\n",
       "0  U1077   135085       2            2               2      public\n",
       "1  U1077   135038       2            2               1        none\n",
       "2  U1077   132825       2            2               2        none\n",
       "3  U1077   135060       1            2               2        none\n",
       "4  U1068   135104       1            1               2         yes"
      ]
     },
     "execution_count": 24,
     "metadata": {},
     "output_type": "execute_result"
    }
   ],
   "source": [
    "# Left merge: Keep everything from the left, drop things from the right (if they don't match)\n",
    "left_merge = pd.merge(left=ratings, right=parking, on=\"placeID\", how=\"left\")\n",
    "left_merge.head()"
   ]
  },
  {
   "cell_type": "code",
   "execution_count": null,
   "id": "2d10e03b-d645-40a8-aad5-053b7514df2f",
   "metadata": {},
   "outputs": [],
   "source": []
  }
 ],
 "metadata": {
  "kernelspec": {
   "display_name": "Python 3 (ipykernel)",
   "language": "python",
   "name": "python3"
  },
  "language_info": {
   "codemirror_mode": {
    "name": "ipython",
    "version": 3
   },
   "file_extension": ".py",
   "mimetype": "text/x-python",
   "name": "python",
   "nbconvert_exporter": "python",
   "pygments_lexer": "ipython3",
   "version": "3.9.13"
  }
 },
 "nbformat": 4,
 "nbformat_minor": 5
}
